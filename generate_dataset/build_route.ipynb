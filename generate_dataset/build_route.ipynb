{
 "cells": [
  {
   "cell_type": "code",
   "id": "initial_id",
   "metadata": {
    "collapsed": true,
    "ExecuteTime": {
     "end_time": "2024-09-17T08:15:54.109837Z",
     "start_time": "2024-09-17T08:15:54.095978Z"
    }
   },
   "source": [
    "import carla\n",
    "import random"
   ],
   "outputs": [],
   "execution_count": 3
  },
  {
   "metadata": {},
   "cell_type": "markdown",
   "source": "# Load map and set waypoints",
   "id": "bcf2e285c99b4cfa"
  },
  {
   "metadata": {
    "ExecuteTime": {
     "end_time": "2024-09-17T08:20:30.451457Z",
     "start_time": "2024-09-17T08:20:28.302974Z"
    }
   },
   "cell_type": "code",
   "source": [
    "client = carla.Client('localhost', 2000)\n",
    "world = client.load_world('Town04')\n",
    "map = world.get_map()\n",
    "\n",
    "waypoints = map.generate_waypoints(distance=2.0)\n",
    "\n",
    "for waypoint in waypoints:\n",
    "    world.debug.draw_point(waypoint.transform.location, size=0.1, color=carla.Color(255, 0, 0), life_time=0)"
   ],
   "id": "b07b237efd746ccc",
   "outputs": [],
   "execution_count": 14
  },
  {
   "metadata": {
    "ExecuteTime": {
     "end_time": "2024-09-17T08:20:32.452539Z",
     "start_time": "2024-09-17T08:20:32.448433Z"
    }
   },
   "cell_type": "code",
   "source": "len(waypoints)",
   "id": "7eea0722410e3aae",
   "outputs": [
    {
     "data": {
      "text/plain": [
       "16919"
      ]
     },
     "execution_count": 15,
     "metadata": {},
     "output_type": "execute_result"
    }
   ],
   "execution_count": 15
  },
  {
   "metadata": {
    "ExecuteTime": {
     "end_time": "2024-09-17T08:20:34.089542Z",
     "start_time": "2024-09-17T08:20:34.084761Z"
    }
   },
   "cell_type": "code",
   "source": [
    "intersections = []\n",
    "for waypoint in waypoints:\n",
    "    if waypoint.is_intersection == True:\n",
    "        intersections.append(waypoint)"
   ],
   "id": "7cde1bc3aa45b894",
   "outputs": [],
   "execution_count": 16
  },
  {
   "metadata": {
    "ExecuteTime": {
     "end_time": "2024-09-17T08:20:36.017084Z",
     "start_time": "2024-09-17T08:20:35.987075Z"
    }
   },
   "cell_type": "code",
   "source": [
    "def is_intersection(waypoint):\n",
    "    return len(waypoint.next(0.1)) > 1\n",
    "\n",
    "# Separate waypoints into intersections and non-intersections\n",
    "intersection_waypoints = [wp for wp in waypoints if is_intersection(wp)]\n",
    "non_intersection_waypoints = [wp for wp in waypoints if not is_intersection(wp)]"
   ],
   "id": "59e773949d68a1c2",
   "outputs": [],
   "execution_count": 17
  },
  {
   "metadata": {
    "ExecuteTime": {
     "end_time": "2024-09-17T08:20:50.397204Z",
     "start_time": "2024-09-17T08:20:50.393977Z"
    }
   },
   "cell_type": "code",
   "source": "len(intersection_waypoints)",
   "id": "4362435e19784e93",
   "outputs": [
    {
     "data": {
      "text/plain": [
       "30"
      ]
     },
     "execution_count": 19,
     "metadata": {},
     "output_type": "execute_result"
    }
   ],
   "execution_count": 19
  },
  {
   "metadata": {
    "ExecuteTime": {
     "end_time": "2024-09-17T08:20:37.015661Z",
     "start_time": "2024-09-17T08:20:37.011875Z"
    }
   },
   "cell_type": "code",
   "source": "len(non_intersection_waypoints)",
   "id": "40db4c0ca6685669",
   "outputs": [
    {
     "data": {
      "text/plain": [
       "16889"
      ]
     },
     "execution_count": 18,
     "metadata": {},
     "output_type": "execute_result"
    }
   ],
   "execution_count": 18
  },
  {
   "metadata": {
    "ExecuteTime": {
     "end_time": "2024-09-17T08:21:12.996035Z",
     "start_time": "2024-09-17T08:21:12.991465Z"
    }
   },
   "cell_type": "code",
   "source": [
    "def generate_route_with_turns(carla_map, min_length, max_length, num_turns):\n",
    "    for _ in range(1000):  # Try up to 100 times to find a valid route\n",
    "        route = []\n",
    "        turn_count = 0\n",
    "        \n",
    "        # Randomly select a starting waypoint from non-intersections\n",
    "        current_wp = random.choice(non_intersection_waypoints)\n",
    "        route.append(current_wp)\n",
    "        \n",
    "        while len(route) < max_length:\n",
    "            # Determine if the current waypoint is at an intersection\n",
    "            if is_intersection(current_wp):\n",
    "                turn_count += 1\n",
    "            \n",
    "            # Get next waypoints\n",
    "            next_wps = current_wp.next(2.0)\n",
    "            if not next_wps:\n",
    "                break  # Dead end reached\n",
    "            \n",
    "            # At intersections, randomly choose a turn\n",
    "            if is_intersection(current_wp):\n",
    "                current_wp = random.choice(next_wps)\n",
    "            else:\n",
    "                # Continue straight if possible\n",
    "                straight_wps = [wp for wp in next_wps if wp.lane_id == current_wp.lane_id]\n",
    "                if straight_wps:\n",
    "                    current_wp = straight_wps[0]\n",
    "                else:\n",
    "                    current_wp = random.choice(next_wps)\n",
    "            \n",
    "            route.append(current_wp)\n",
    "            \n",
    "            # Check if route meets criteria\n",
    "            if len(route) >= min_length and turn_count >= num_turns:\n",
    "                break\n",
    "        \n",
    "        # Verify route meets the exact number of turns required\n",
    "        if turn_count == num_turns and min_length <= len(route) <= max_length:\n",
    "            return route  # Valid route found\n",
    "    \n",
    "    print(\"Could not find a route meeting the criteria.\")\n",
    "    return None\n"
   ],
   "id": "3733fa0715548d7a",
   "outputs": [],
   "execution_count": 23
  },
  {
   "metadata": {
    "ExecuteTime": {
     "end_time": "2024-09-17T08:22:11.979615Z",
     "start_time": "2024-09-17T08:22:11.974207Z"
    }
   },
   "cell_type": "code",
   "source": [
    "# Parameters\n",
    "min_length_1_turn = 25\n",
    "max_length_1_turn = 34\n",
    "min_length_2_turns = 35\n",
    "max_length_2_turns = 49\n",
    "\n",
    "# Generate a route with 1 turn\n",
    "route_1_turn = generate_route_with_turns(\n",
    "    map, min_length_1_turn, max_length_1_turn, num_turns=1\n",
    ")\n",
    "\n",
    "# Generate a route with 2 turns\n",
    "route_2_turns = generate_route_with_turns(\n",
    "    map, min_length_2_turns, max_length_2_turns, num_turns= 1\n",
    ")\n"
   ],
   "id": "4d9f42fbf2f8c1aa",
   "outputs": [],
   "execution_count": 25
  },
  {
   "metadata": {
    "ExecuteTime": {
     "end_time": "2024-09-17T08:22:21.622195Z",
     "start_time": "2024-09-17T08:22:21.618616Z"
    }
   },
   "cell_type": "code",
   "source": "route_1_turn",
   "id": "ed382f498435d44",
   "outputs": [
    {
     "data": {
      "text/plain": [
       "[<carla.libcarla.Waypoint at 0x7f64dcb45120>,\n",
       " <carla.libcarla.Waypoint at 0x7f64dda90c80>,\n",
       " <carla.libcarla.Waypoint at 0x7f64dda90c10>,\n",
       " <carla.libcarla.Waypoint at 0x7f64dd9675f0>,\n",
       " <carla.libcarla.Waypoint at 0x7f64dd967740>,\n",
       " <carla.libcarla.Waypoint at 0x7f64ddab6b30>,\n",
       " <carla.libcarla.Waypoint at 0x7f64ddab6c80>,\n",
       " <carla.libcarla.Waypoint at 0x7f64ddab6eb0>,\n",
       " <carla.libcarla.Waypoint at 0x7f64ddab6ba0>,\n",
       " <carla.libcarla.Waypoint at 0x7f64ddab6e40>,\n",
       " <carla.libcarla.Waypoint at 0x7f64ddab6cf0>,\n",
       " <carla.libcarla.Waypoint at 0x7f64ddab6d60>,\n",
       " <carla.libcarla.Waypoint at 0x7f64ddab6ac0>,\n",
       " <carla.libcarla.Waypoint at 0x7f64ddab6c10>,\n",
       " <carla.libcarla.Waypoint at 0x7f64ddab6dd0>,\n",
       " <carla.libcarla.Waypoint at 0x7f64ddab6f90>,\n",
       " <carla.libcarla.Waypoint at 0x7f64ddab6f20>,\n",
       " <carla.libcarla.Waypoint at 0x7f64dd9549e0>,\n",
       " <carla.libcarla.Waypoint at 0x7f64dd954a50>,\n",
       " <carla.libcarla.Waypoint at 0x7f64dd954cf0>,\n",
       " <carla.libcarla.Waypoint at 0x7f64dd954190>,\n",
       " <carla.libcarla.Waypoint at 0x7f64dd954350>,\n",
       " <carla.libcarla.Waypoint at 0x7f64dd954ba0>,\n",
       " <carla.libcarla.Waypoint at 0x7f64dd954f90>,\n",
       " <carla.libcarla.Waypoint at 0x7f64dd954ac0>]"
      ]
     },
     "execution_count": 26,
     "metadata": {},
     "output_type": "execute_result"
    }
   ],
   "execution_count": 26
  },
  {
   "metadata": {
    "ExecuteTime": {
     "end_time": "2024-09-17T08:23:55.689768Z",
     "start_time": "2024-09-17T08:23:55.686556Z"
    }
   },
   "cell_type": "code",
   "source": [
    "# 可视化路线上的路点\n",
    "for waypoint in route_2_turns:\n",
    "    world.debug.draw_point(waypoint.transform.location, size=0.2, color=carla.Color(0, 255, 0), life_time=0)\n"
   ],
   "id": "3b4136a0fcb232ad",
   "outputs": [],
   "execution_count": 29
  },
  {
   "metadata": {
    "ExecuteTime": {
     "end_time": "2024-09-17T08:25:07.438883Z",
     "start_time": "2024-09-17T08:25:07.436005Z"
    }
   },
   "cell_type": "code",
   "source": [
    "def get_number_of_obstacles(route_length):\n",
    "    if route_length > 40:\n",
    "        return 2\n",
    "    else:\n",
    "        return 1\n"
   ],
   "id": "c5ac71c05f90bff0",
   "outputs": [],
   "execution_count": 30
  },
  {
   "metadata": {
    "ExecuteTime": {
     "end_time": "2024-09-17T08:27:51.559902Z",
     "start_time": "2024-09-17T08:27:51.556186Z"
    }
   },
   "cell_type": "code",
   "source": [
    "def spawn_obstacles_along_route(world, route, num_obstacles):\n",
    "    obstacle_waypoints = random.sample(route[5:-5], num_obstacles)  # Avoid start and end points\n",
    "    obstacles = []\n",
    "    \n",
    "    blueprint_library = world.get_blueprint_library()\n",
    "    pedestrian_bps = list(blueprint_library.filter('walker.pedestrian.*'))\n",
    "    vehicle_bps = list(blueprint_library.filter('vehicle.*.*'))\n",
    "    obstacle_bps = pedestrian_bps + vehicle_bps\n",
    "\n",
    "    for wp in obstacle_waypoints:\n",
    "        obstacle_bp = random.choice(obstacle_bps)\n",
    "        transform = wp.transform\n",
    "        obstacle = world.try_spawn_actor(obstacle_bp, transform)\n",
    "        if obstacle:\n",
    "            obstacles.append(obstacle)\n",
    "    return obstacles\n"
   ],
   "id": "3ad85c8157917743",
   "outputs": [],
   "execution_count": 33
  },
  {
   "metadata": {
    "ExecuteTime": {
     "end_time": "2024-09-17T08:27:52.490515Z",
     "start_time": "2024-09-17T08:27:52.417777Z"
    }
   },
   "cell_type": "code",
   "source": [
    "# For route with 1 turn\n",
    "num_obstacles = get_number_of_obstacles(len(route_1_turn))\n",
    "obstacles_route_1 = spawn_obstacles_along_route(world, route_1_turn, num_obstacles)\n",
    "\n",
    "# For route with 2 turns\n",
    "num_obstacles = get_number_of_obstacles(len(route_2_turns))\n",
    "obstacles_route_2 = spawn_obstacles_along_route(world, route_2_turns, num_obstacles)\n"
   ],
   "id": "3caed361cd981fc7",
   "outputs": [],
   "execution_count": 34
  },
  {
   "metadata": {
    "ExecuteTime": {
     "end_time": "2024-09-17T08:28:38.457620Z",
     "start_time": "2024-09-17T08:28:38.454412Z"
    }
   },
   "cell_type": "code",
   "source": "obstacles_route_1",
   "id": "cba708f44711673",
   "outputs": [
    {
     "data": {
      "text/plain": [
       "[<carla.libcarla.Walker at 0x7f64dd98e970>]"
      ]
     },
     "execution_count": 35,
     "metadata": {},
     "output_type": "execute_result"
    }
   ],
   "execution_count": 35
  },
  {
   "metadata": {
    "ExecuteTime": {
     "end_time": "2024-09-17T08:29:35.489150Z",
     "start_time": "2024-09-17T08:29:35.486048Z"
    }
   },
   "cell_type": "code",
   "source": [
    "for obs in obstacles_route_1:\n",
    "        world.debug.draw_box(obs.bounding_box, obs.get_transform().rotation, 0.1, carla.Color(0, 0, 255), life_time=0.0)\n"
   ],
   "id": "4d46f3f1eef9174e",
   "outputs": [],
   "execution_count": 36
  },
  {
   "metadata": {
    "ExecuteTime": {
     "end_time": "2024-09-17T06:38:51.599217Z",
     "start_time": "2024-09-17T06:38:51.593814Z"
    }
   },
   "cell_type": "code",
   "source": [
    "def determine_action(current_wp, next_wp, obstacles):\n",
    "    # Logic to determine action based on waypoint orientation and road options\n",
    "    # This is simplified and may need adjustments\n",
    "    if next_wp.road_id != current_wp.road_id:\n",
    "        # Likely a turn\n",
    "        yaw_diff = next_wp.transform.rotation.yaw - current_wp.transform.rotation.yaw\n",
    "        if yaw_diff > 10:\n",
    "            return 'Left'\n",
    "        elif yaw_diff < -10:\n",
    "            return 'Right'\n",
    "    if current_wp in obstacles:\n",
    "        return 'Stop'\n",
    "    return 'Forward'"
   ],
   "id": "11149f353ce032c",
   "outputs": [],
   "execution_count": 8
  },
  {
   "metadata": {
    "ExecuteTime": {
     "end_time": "2024-09-17T06:38:53.790779Z",
     "start_time": "2024-09-17T06:38:53.699167Z"
    }
   },
   "cell_type": "code",
   "source": [
    "from agents.navigation.local_planner import RoadOption\n",
    "def spawn_landmark(name, transform):\n",
    "    landmark_bp = blueprint_library.find(name)\n",
    "    landmark = world.spawn_actor(landmark_bp, transform)\n",
    "    return landmark"
   ],
   "id": "c8cb6867661ab54d",
   "outputs": [],
   "execution_count": 9
  },
  {
   "metadata": {
    "ExecuteTime": {
     "end_time": "2024-09-17T06:38:56.419869Z",
     "start_time": "2024-09-17T06:38:56.415326Z"
    }
   },
   "cell_type": "code",
   "source": [
    "def get_nearby_obstacles(waypoint, world, threshold_distance=1.0):\n",
    "    \"\"\"\n",
    "    Identifies obstacles near the given waypoint.\n",
    "\n",
    "    Parameters:\n",
    "    - waypoint: The waypoint to check around.\n",
    "    - world: The CARLA world instance.\n",
    "    - threshold_distance: The maximum distance to consider an obstacle as nearby.\n",
    "\n",
    "    Returns:\n",
    "    - obstacles: A list of dictionaries containing obstacle information.\n",
    "    \"\"\"\n",
    "    obstacles = []\n",
    "    waypoint_location = waypoint.transform.location\n",
    "\n",
    "    # Get all actors in the world\n",
    "    actors = world.get_actors()\n",
    "\n",
    "    # Define obstacle types to consider\n",
    "    obstacle_types = ['vehicle.', 'walker.pedestrian.', 'static.prop.']\n",
    "\n",
    "    for actor in actors:\n",
    "        # Check if the actor is one of the obstacle types\n",
    "        if any(actor.type_id.startswith(obstacle_type) for obstacle_type in obstacle_types):\n",
    "            # Calculate distance between the actor and the waypoint\n",
    "            actor_location = actor.get_location()\n",
    "            distance = actor_location.distance(waypoint_location)\n",
    "            if distance < threshold_distance:\n",
    "                # Collect obstacle information\n",
    "                obstacle_info = {\n",
    "                    'id': actor.id,\n",
    "                    'type': actor.type_id,\n",
    "                    'location': actor_location,\n",
    "                    'distance': distance\n",
    "                }\n",
    "                obstacles.append(obstacle_info)\n",
    "\n",
    "    return obstacles\n"
   ],
   "id": "9917454df84fd84c",
   "outputs": [],
   "execution_count": 10
  },
  {
   "metadata": {
    "ExecuteTime": {
     "end_time": "2024-09-17T06:38:57.508653Z",
     "start_time": "2024-09-17T06:38:57.505260Z"
    }
   },
   "cell_type": "code",
   "source": [
    "def get_nearby_landmarks(waypoint):\n",
    "    landmarks = []\n",
    "    actors = world.get_actors()\n",
    "    for actor in actors:\n",
    "        if actor.type_id.startswith('static.prop') or actor.type_id.startswith('static.building'):\n",
    "            distance = actor.get_location().distance(waypoint.transform.location)\n",
    "            if distance < 1.0:\n",
    "                landmarks.append(actor)\n",
    "    return landmarks\n"
   ],
   "id": "78a3191a4ca629ab",
   "outputs": [],
   "execution_count": 11
  },
  {
   "metadata": {
    "ExecuteTime": {
     "end_time": "2024-09-17T06:43:57.853202Z",
     "start_time": "2024-09-17T06:43:57.849378Z"
    }
   },
   "cell_type": "code",
   "source": [
    "# List to store all obstacles in the environment\n",
    "obstacles = []\n",
    "\n",
    "# Example function to spawn obstacles and add them to the list\n",
    "def spawn_obstacle_at_waypoint(waypoint, obstacle_type='walker.pedestrian.*'):\n",
    "    blueprint_library = world.get_blueprint_library()\n",
    "    obstacle_bp = random.choice(blueprint_library.filter(obstacle_type))\n",
    "    transform = waypoint.transform\n",
    "    obstacle = world.spawn_actor(obstacle_bp, transform)\n",
    "    obstacles.append(obstacle)\n",
    "    return obstacle\n"
   ],
   "id": "e77fdfbc514fc9c5",
   "outputs": [],
   "execution_count": 16
  },
  {
   "metadata": {
    "ExecuteTime": {
     "end_time": "2024-09-17T06:44:03.049239Z",
     "start_time": "2024-09-17T06:44:03.045968Z"
    }
   },
   "cell_type": "code",
   "source": "obstacles",
   "id": "b90250aa95cd063c",
   "outputs": [
    {
     "data": {
      "text/plain": [
       "[]"
      ]
     },
     "execution_count": 17,
     "metadata": {},
     "output_type": "execute_result"
    }
   ],
   "execution_count": 17
  },
  {
   "metadata": {
    "ExecuteTime": {
     "end_time": "2024-09-17T06:39:13.241450Z",
     "start_time": "2024-09-17T06:39:02.117170Z"
    }
   },
   "cell_type": "code",
   "source": "route = generate_complex_route(map, 50)",
   "id": "3693318b21c79a89",
   "outputs": [],
   "execution_count": 13
  },
  {
   "metadata": {
    "ExecuteTime": {
     "end_time": "2024-09-17T06:39:34.417272Z",
     "start_time": "2024-09-17T06:39:34.413535Z"
    }
   },
   "cell_type": "code",
   "source": "len(route)",
   "id": "40b1ae7e1a751cd2",
   "outputs": [
    {
     "data": {
      "text/plain": [
       "50"
      ]
     },
     "execution_count": 15,
     "metadata": {},
     "output_type": "execute_result"
    }
   ],
   "execution_count": 15
  },
  {
   "metadata": {
    "ExecuteTime": {
     "end_time": "2024-09-17T05:39:22.927477Z",
     "start_time": "2024-09-17T05:39:22.906325Z"
    }
   },
   "cell_type": "code",
   "source": [
    "route_data = []\n",
    "for wp in route:\n",
    "    \n",
    "    data_point = {\n",
    "        'waypoint': wp,\n",
    "        'action': determine_action(wp, route[i + 1] if i + 1 < len(route) else None, obstacles),\n",
    "        'obstacles': get_nearby_obstacles(wp),\n",
    "        'landmarks': get_nearby_landmarks(wp),\n",
    "        'road_type': wp.lane_type  # or other relevant info\n",
    "    }\n",
    "    route_data.append(data_point)\n"
   ],
   "id": "6a700ea1445349d9",
   "outputs": [
    {
     "ename": "TypeError",
     "evalue": "determine_action() missing 2 required positional arguments: 'next_wp' and 'obstacles'",
     "output_type": "error",
     "traceback": [
      "\u001B[0;31m---------------------------------------------------------------------------\u001B[0m",
      "\u001B[0;31mTypeError\u001B[0m                                 Traceback (most recent call last)",
      "Cell \u001B[0;32mIn[16], line 5\u001B[0m\n\u001B[1;32m      1\u001B[0m route_data \u001B[38;5;241m=\u001B[39m []\n\u001B[1;32m      2\u001B[0m \u001B[38;5;28;01mfor\u001B[39;00m wp \u001B[38;5;129;01min\u001B[39;00m route:\n\u001B[1;32m      3\u001B[0m     data_point \u001B[38;5;241m=\u001B[39m {\n\u001B[1;32m      4\u001B[0m         \u001B[38;5;124m'\u001B[39m\u001B[38;5;124mwaypoint\u001B[39m\u001B[38;5;124m'\u001B[39m: wp,\n\u001B[0;32m----> 5\u001B[0m         \u001B[38;5;124m'\u001B[39m\u001B[38;5;124maction\u001B[39m\u001B[38;5;124m'\u001B[39m: \u001B[43mdetermine_action\u001B[49m\u001B[43m(\u001B[49m\u001B[38;5;241;43m.\u001B[39;49m\u001B[38;5;241;43m.\u001B[39;49m\u001B[38;5;241;43m.\u001B[39;49m\u001B[43m)\u001B[49m,\n\u001B[1;32m      6\u001B[0m         \u001B[38;5;124m'\u001B[39m\u001B[38;5;124mobstacles\u001B[39m\u001B[38;5;124m'\u001B[39m: get_nearby_obstacles(wp),\n\u001B[1;32m      7\u001B[0m         \u001B[38;5;124m'\u001B[39m\u001B[38;5;124mlandmarks\u001B[39m\u001B[38;5;124m'\u001B[39m: get_nearby_landmarks(wp),\n\u001B[1;32m      8\u001B[0m         \u001B[38;5;124m'\u001B[39m\u001B[38;5;124mroad_type\u001B[39m\u001B[38;5;124m'\u001B[39m: wp\u001B[38;5;241m.\u001B[39mlane_type  \u001B[38;5;66;03m# or other relevant info\u001B[39;00m\n\u001B[1;32m      9\u001B[0m     }\n\u001B[1;32m     10\u001B[0m     route_data\u001B[38;5;241m.\u001B[39mappend(data_point)\n",
      "\u001B[0;31mTypeError\u001B[0m: determine_action() missing 2 required positional arguments: 'next_wp' and 'obstacles'"
     ]
    }
   ],
   "execution_count": 16
  },
  {
   "metadata": {},
   "cell_type": "code",
   "outputs": [],
   "execution_count": null,
   "source": [
    "blueprint_library = world.get_blueprint_library()\n",
    "\n",
    "# Spawn a pedestrian\n",
    "walker_bp = random.choice(blueprint_library.filter('walker.pedestrian.*'))\n",
    "spawn_point = random.choice(world.get_map().get_spawn_points())\n",
    "pedestrian = world.spawn_actor(walker_bp, spawn_point)\n",
    "\n",
    "# Spawn a vehicle\n",
    "vehicle_bp = random.choice(blueprint_library.filter('vehicle.*.*'))\n",
    "vehicle_spawn_point = random.choice(world.get_map().get_spawn_points())\n",
    "other_vehicle = world.spawn_actor(vehicle_bp, vehicle_spawn_point)\n",
    "other_vehicle.set_autopilot(True)\n"
   ],
   "id": "5d388b11b4627614"
  },
  {
   "metadata": {
    "ExecuteTime": {
     "end_time": "2024-09-17T06:45:02.835965Z",
     "start_time": "2024-09-17T06:45:00.436674Z"
    }
   },
   "cell_type": "code",
   "source": [
    "import carla\n",
    "import random\n",
    "\n",
    "# Initialize the CARLA client and world\n",
    "client = carla.Client('localhost', 2000)\n",
    "client.set_timeout(10.0)\n",
    "world = client.get_world()\n",
    "blueprint_library = world.get_blueprint_library()\n",
    "map = world.get_map()\n",
    "\n",
    "# Generate the route\n",
    "n = 50  # Number of waypoints\n",
    "route = generate_complex_route(map, n)\n",
    "\n",
    "# List to store all obstacles\n",
    "obstacles = []\n",
    "\n",
    "# Function to spawn obstacles and add them to the obstacles list\n",
    "def spawn_obstacle_at_waypoint(waypoint, obstacle_type='walker.pedestrian.*'):\n",
    "    obstacle_bp = random.choice(blueprint_library.filter(obstacle_type))\n",
    "    transform = waypoint.transform\n",
    "    obstacle = world.try_spawn_actor(obstacle_bp, transform)\n",
    "    if obstacle:\n",
    "        obstacles.append(obstacle)\n",
    "        return obstacle\n",
    "    else:\n",
    "        return None\n",
    "\n",
    "# Spawn obstacles at selected waypoints along the route\n",
    "for wp in route:\n",
    "    if random.random() < 0.1:  # 10% chance to spawn an obstacle at a waypoint\n",
    "        spawn_obstacle_at_waypoint(wp)\n",
    "\n",
    "# Data collection loop\n",
    "route_data = []\n",
    "for i, wp in enumerate(route):\n",
    "    # Get nearby obstacles at the current waypoint\n",
    "    obstacles_nearby = get_nearby_obstacles(wp, obstacles, threshold_distance=15.0)\n",
    "\n",
    "    # Get nearby landmarks\n",
    "    landmarks_nearby = get_nearby_landmarks(wp)\n",
    "\n",
    "    # Record road type or other environmental data\n",
    "    road_type = wp.lane_type\n",
    "\n",
    "    # Determine the action at this waypoint\n",
    "    next_wp = route[i + 1] if i + 1 < len(route) else None\n",
    "    action = determine_action(wp, next_wp, obstacles)\n",
    "\n",
    "    # Create the data point\n",
    "    data_point = {\n",
    "        'waypoint': wp,\n",
    "        'action': action,\n",
    "        'obstacles': obstacles_nearby,\n",
    "        'landmarks': landmarks_nearby,\n",
    "        'road_type': road_type\n",
    "    }\n",
    "\n",
    "    # Generate the instruction using the LLM\n",
    "    instruction = generate_instruction(action, data_point)\n",
    "    data_point['instruction'] = instruction\n",
    "\n",
    "    # Add the data point to the route data\n",
    "    route_data.append(data_point)\n",
    "\n",
    "# Remember to clean up actors after simulation\n",
    "for obstacle in obstacles:\n",
    "    obstacle.destroy()\n"
   ],
   "id": "145b83fa962815e5",
   "outputs": [
    {
     "ename": "AttributeError",
     "evalue": "'list' object has no attribute 'get_actors'",
     "output_type": "error",
     "traceback": [
      "\u001B[0;31m---------------------------------------------------------------------------\u001B[0m",
      "\u001B[0;31mAttributeError\u001B[0m                            Traceback (most recent call last)",
      "Cell \u001B[0;32mIn[18], line 38\u001B[0m\n\u001B[1;32m     35\u001B[0m route_data \u001B[38;5;241m=\u001B[39m []\n\u001B[1;32m     36\u001B[0m \u001B[38;5;28;01mfor\u001B[39;00m i, wp \u001B[38;5;129;01min\u001B[39;00m \u001B[38;5;28menumerate\u001B[39m(route):\n\u001B[1;32m     37\u001B[0m     \u001B[38;5;66;03m# Get nearby obstacles at the current waypoint\u001B[39;00m\n\u001B[0;32m---> 38\u001B[0m     obstacles_nearby \u001B[38;5;241m=\u001B[39m \u001B[43mget_nearby_obstacles\u001B[49m\u001B[43m(\u001B[49m\u001B[43mwp\u001B[49m\u001B[43m,\u001B[49m\u001B[43m \u001B[49m\u001B[43mobstacles\u001B[49m\u001B[43m,\u001B[49m\u001B[43m \u001B[49m\u001B[43mthreshold_distance\u001B[49m\u001B[38;5;241;43m=\u001B[39;49m\u001B[38;5;241;43m15.0\u001B[39;49m\u001B[43m)\u001B[49m\n\u001B[1;32m     40\u001B[0m     \u001B[38;5;66;03m# Get nearby landmarks\u001B[39;00m\n\u001B[1;32m     41\u001B[0m     landmarks_nearby \u001B[38;5;241m=\u001B[39m get_nearby_landmarks(wp)\n",
      "Cell \u001B[0;32mIn[10], line 17\u001B[0m, in \u001B[0;36mget_nearby_obstacles\u001B[0;34m(waypoint, world, threshold_distance)\u001B[0m\n\u001B[1;32m     14\u001B[0m waypoint_location \u001B[38;5;241m=\u001B[39m waypoint\u001B[38;5;241m.\u001B[39mtransform\u001B[38;5;241m.\u001B[39mlocation\n\u001B[1;32m     16\u001B[0m \u001B[38;5;66;03m# Get all actors in the world\u001B[39;00m\n\u001B[0;32m---> 17\u001B[0m actors \u001B[38;5;241m=\u001B[39m \u001B[43mworld\u001B[49m\u001B[38;5;241;43m.\u001B[39;49m\u001B[43mget_actors\u001B[49m()\n\u001B[1;32m     19\u001B[0m \u001B[38;5;66;03m# Define obstacle types to consider\u001B[39;00m\n\u001B[1;32m     20\u001B[0m obstacle_types \u001B[38;5;241m=\u001B[39m [\u001B[38;5;124m'\u001B[39m\u001B[38;5;124mvehicle.\u001B[39m\u001B[38;5;124m'\u001B[39m, \u001B[38;5;124m'\u001B[39m\u001B[38;5;124mwalker.pedestrian.\u001B[39m\u001B[38;5;124m'\u001B[39m, \u001B[38;5;124m'\u001B[39m\u001B[38;5;124mstatic.prop.\u001B[39m\u001B[38;5;124m'\u001B[39m]\n",
      "\u001B[0;31mAttributeError\u001B[0m: 'list' object has no attribute 'get_actors'"
     ]
    }
   ],
   "execution_count": 18
  }
 ],
 "metadata": {
  "kernelspec": {
   "display_name": "Python 3",
   "language": "python",
   "name": "python3"
  },
  "language_info": {
   "codemirror_mode": {
    "name": "ipython",
    "version": 2
   },
   "file_extension": ".py",
   "mimetype": "text/x-python",
   "name": "python",
   "nbconvert_exporter": "python",
   "pygments_lexer": "ipython2",
   "version": "2.7.6"
  }
 },
 "nbformat": 4,
 "nbformat_minor": 5
}
